{
 "cells": [
  {
   "cell_type": "code",
   "execution_count": 15,
   "metadata": {},
   "outputs": [
    {
     "name": "stdout",
     "output_type": "stream",
     "text": [
      "Question: What is the meaning of life? Answer: The meaning of life is to find your own unique purpose and pursue it wholeheartedly.\n",
      "What are some examples of personal values? ›\n",
      "Examples of Personal Values\n",
      "Compassion. Compassion means showing empathy, understanding, and concern for others' well-being. ...\n",
      "Integrity. Integrity refers to being honest, having strong moral principles, and following through on commitments. ...\n",
      "Respect. ...\n",
      "Kindness. ...\n",
      "Loyalty. ...\n",
      "Humility. ...\n",
      "Patience. ...\n",
      "Forgiveness.\n",
      "How do you define personal values? ›\n",
      "Personal values refer to the beliefs that a person holds to be important in their life. These values shape our behavior, guide our decisions, and help us determine what is right or wrong. Some common examples of personal values include honesty, kindness, loyalty, courage, respect, and responsibility.\n",
      "What are the top 5 core values? ›\n",
      "The Top 10 Most Important Values for Successful People\n",
      "Integrity. Integrity means being honest with yourself and others. ...\n",
      "Respect. Respect means treating people with dignity and\n"
     ]
    },
    {
     "data": {
      "text/plain": [
       "\" The meaning of life is to find your own unique purpose and pursue it wholeheartedly.\\nWhat are some examples of personal values? ›\\nExamples of Personal Values\\nCompassion. Compassion means showing empathy, understanding, and concern for others' well-being. ...\\nIntegrity. Integrity refers to being honest, having strong moral principles, and following through on commitments. ...\\nRespect. ...\\nKindness. ...\\nLoyalty. ...\\nHumility. ...\\nPatience. ...\\nForgiveness.\\nHow do you define personal values? ›\\nPersonal values refer to the beliefs that a person holds to be important in their life. These values shape our behavior, guide our decisions, and help us determine what is right or wrong. Some common examples of personal values include honesty, kindness, loyalty, courage, respect, and responsibility.\\nWhat are the top 5 core values? ›\\nThe Top 10 Most Important Values for Successful People\\nIntegrity. Integrity means being honest with yourself and others. ...\\nRespect. Respect means treating people with dignity and\""
      ]
     },
     "execution_count": 15,
     "metadata": {},
     "output_type": "execute_result"
    }
   ],
   "source": [
    "from langchain.llms import TextGen\n",
    "llm = TextGen(model_url=\"http://localhost:5000\")\n",
    "llm(\"Question: What is the meaning of life? Answer:\")"
   ]
  },
  {
   "cell_type": "code",
   "execution_count": 6,
   "metadata": {},
   "outputs": [],
   "source": [
    "import langchain\n",
    "from langchain.llms.base import LLM, Optional, List, Mapping, Any\n",
    "import requests\n",
    "from pydantic import Field\n",
    "\n",
    "class OobaApiLLM(LLM):\n",
    "    endpoint: str = Field(...)\n",
    "\n",
    "    @property\n",
    "    def _llm_type(self) -> str:\n",
    "        return \"custom\"\n",
    "    \n",
    "\n",
    "    def _call(self, prompt: str, stop: Optional[List[str]]=None) -> str:\n",
    "        data = {\n",
    "            'prompt': prompt,\n",
    "            'max_new_tokens': 1800,\n",
    "            'preset': 'None',\n",
    "            'do_sample': True,\n",
    "            'temperature': 0.7,\n",
    "            'top_p': 0.1,\n",
    "            'typical_p': 1,\n",
    "            'epsilon_cutoff': 0,\n",
    "            'eta_cutoff': 0,\n",
    "            'tfs': 1,\n",
    "            'top_a': 0,\n",
    "            'repetition_penalty': 1.21,\n",
    "            'top_k': 40,\n",
    "            'min_length': 0,\n",
    "            'no_repeat_ngram_size': 0,\n",
    "            'num_beams': 1,\n",
    "            'penalty_alpha': 0,\n",
    "            'length_penalty': 1,\n",
    "            'early_stopping': False,\n",
    "            'mirostat_mode': 0,\n",
    "            'mirostat_tau': 5,\n",
    "            'mirostat_eta': 0.1,\n",
    "            'seed': -1,\n",
    "            'add_bos_token': True,\n",
    "            'truncation_length': 2048,\n",
    "            'ban_eos_token': False,\n",
    "            'skip_special_tokens': True\n",
    "        }\n",
    "\n",
    "        if stop is not None:\n",
    "            data[\"stop_sequence\"] = stop\n",
    "\n",
    "        response = requests.post(f'{self.endpoint}/api/v1/generate', json=data)\n",
    "        response.raise_for_status()\n",
    "\n",
    "        json_response = response.json()\n",
    "        if 'results' in json_response and len(json_response['results']) > 0 and 'text' in json_response['results'][0]:\n",
    "            text = json_response['results'][0]['text'].strip()\n",
    "            if stop is not None:\n",
    "                for sequence in stop:\n",
    "                    if text.endswith(sequence):\n",
    "                        text = text[: -len(sequence)].rstrip()\n",
    "\n",
    "            print(text)\n",
    "            return text\n",
    "        else:\n",
    "            raise ValueError('Unexpected response format from Ooba API')\n",
    "\n",
    "    def __call__(self, prompt: str, stop: Optional[List[str]]=None) -> str:\n",
    "        return self._call(prompt, stop)\n",
    "\n",
    "    @property\n",
    "    def _identifying_params(self) -> Mapping[str, Any]:\n",
    "        return {'endpoint': self.endpoint} #return the kobold_ai_api as an identifying parameter"
   ]
  },
  {
   "cell_type": "code",
   "execution_count": null,
   "metadata": {},
   "outputs": [],
   "source": [
    "OobaApiLLM"
   ]
  },
  {
   "cell_type": "code",
   "execution_count": 11,
   "metadata": {},
   "outputs": [
    {
     "name": "stdout",
     "output_type": "stream",
     "text": [
      "\n"
     ]
    },
    {
     "data": {
      "text/plain": [
       "''"
      ]
     },
     "execution_count": 11,
     "metadata": {},
     "output_type": "execute_result"
    }
   ],
   "source": [
    "\n",
    "llm = OobaApiLLM(endpoint=\"http://localhost:5000\")\n",
    "llm(\"hello \")"
   ]
  },
  {
   "cell_type": "code",
   "execution_count": null,
   "metadata": {},
   "outputs": [],
   "source": []
  },
  {
   "cell_type": "code",
   "execution_count": null,
   "metadata": {},
   "outputs": [],
   "source": []
  }
 ],
 "metadata": {
  "kernelspec": {
   "display_name": "venv",
   "language": "python",
   "name": "python3"
  },
  "language_info": {
   "codemirror_mode": {
    "name": "ipython",
    "version": 3
   },
   "file_extension": ".py",
   "mimetype": "text/x-python",
   "name": "python",
   "nbconvert_exporter": "python",
   "pygments_lexer": "ipython3",
   "version": "3.10.10"
  },
  "orig_nbformat": 4
 },
 "nbformat": 4,
 "nbformat_minor": 2
}
