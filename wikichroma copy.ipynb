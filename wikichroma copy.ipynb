{
 "cells": [
  {
   "cell_type": "code",
   "execution_count": 1,
   "metadata": {},
   "outputs": [],
   "source": [
    "from langchain.vectorstores import Chroma\n",
    "from langchain.embeddings import OpenAIEmbeddings\n",
    "from langchain.text_splitter import RecursiveCharacterTextSplitter\n",
    "from langchain.llms import OpenAI\n",
    "from langchain.chains import RetrievalQA\n",
    "from langchain.document_loaders import WikipediaLoader\n",
    "\n",
    "import os\n",
    "os.environ[\"OPENAI_API_KEY\"] = \"\""
   ]
  },
  {
   "attachments": {},
   "cell_type": "markdown",
   "metadata": {},
   "source": [
    "# wikipedia loader"
   ]
  },
  {
   "cell_type": "code",
   "execution_count": 7,
   "metadata": {},
   "outputs": [],
   "source": [
    "\n",
    "loader = WikipediaLoader(query=\"Metal_Gear_Solid_3:_Snake_Eater\", load_max_docs=100)\n",
    "\n",
    "documents = loader.load()"
   ]
  },
  {
   "attachments": {},
   "cell_type": "markdown",
   "metadata": {},
   "source": [
    "# url loader"
   ]
  },
  {
   "cell_type": "code",
   "execution_count": 3,
   "metadata": {},
   "outputs": [],
   "source": [
    "from langchain.document_loaders.recursive_url_loader import RecursiveUrlLoader\n",
    "url = 'https://js.langchain.com/docs/modules/memory/examples/'\n",
    "loader=RecursiveUrlLoader(url=url)\n",
    "documents = loader.load()"
   ]
  },
  {
   "cell_type": "code",
   "execution_count": 4,
   "metadata": {},
   "outputs": [
    {
     "data": {
      "text/plain": [
       "'\\n\\n\\n\\n\\nEntity Memory | 🦜️🔗 Langchain\\n\\n\\n\\n\\n\\nSkip to ma'"
      ]
     },
     "execution_count": 4,
     "metadata": {},
     "output_type": "execute_result"
    }
   ],
   "source": [
    "len(docs)\n",
    "\n",
    "documents[0].page_content[:50]"
   ]
  },
  {
   "attachments": {},
   "cell_type": "markdown",
   "metadata": {},
   "source": [
    "Now, let's try a more extensive example, the docs root dir.\n",
    "\n",
    "We will skip everything under api."
   ]
  },
  {
   "cell_type": "code",
   "execution_count": 7,
   "metadata": {},
   "outputs": [],
   "source": [
    "url = 'https://js.langchain.com/docs/'\n",
    "exclude_dirs=['https://js.langchain.com/docs/api/']\n",
    "loader=RecursiveUrlLoader(url=url,exclude_dirs=exclude_dirs)\n",
    "documents = loader.load()\n"
   ]
  },
  {
   "cell_type": "code",
   "execution_count": 8,
   "metadata": {},
   "outputs": [
    {
     "data": {
      "text/plain": [
       "179"
      ]
     },
     "execution_count": 8,
     "metadata": {},
     "output_type": "execute_result"
    }
   ],
   "source": [
    "len(documents)"
   ]
  },
  {
   "attachments": {},
   "cell_type": "markdown",
   "metadata": {},
   "source": [
    "docs[0].page_content[:50]"
   ]
  },
  {
   "attachments": {},
   "cell_type": "markdown",
   "metadata": {},
   "source": [
    "docs[0].metadata"
   ]
  },
  {
   "attachments": {},
   "cell_type": "markdown",
   "metadata": {},
   "source": []
  },
  {
   "cell_type": "code",
   "execution_count": 24,
   "metadata": {},
   "outputs": [],
   "source": [
    "\n",
    "#splitting the text into\n",
    "text_splitter = RecursiveCharacterTextSplitter(chunk_size=1000, chunk_overlap=200)\n",
    "texts = text_splitter.split_documents(documents)\n"
   ]
  },
  {
   "cell_type": "code",
   "execution_count": 25,
   "metadata": {},
   "outputs": [],
   "source": [
    "\n",
    "\"\"\"## create the DB\"\"\"\n",
    "\n",
    "# Embed and store the texts\n",
    "# Supplying a persist_directory will store the embeddings on disk\n",
    "persist_directory = 'db'\n",
    "\n",
    "## here we are using OpenAI embeddings but in future we will swap out to local embeddings\n",
    "embedding = OpenAIEmbeddings()\n",
    "\n",
    "vectordb = Chroma.from_documents(documents=texts,\n",
    "                                 embedding=embedding,\n",
    "                                 persist_directory=persist_directory)\n",
    "\n",
    "# persiste the db to disk\n",
    "vectordb.persist()\n",
    "vectordb = None\n",
    "\n",
    "# Now we can load the persisted database from disk, and use it as normal.\n",
    "vectordb = Chroma(persist_directory=persist_directory,\n",
    "                  embedding_function=embedding)"
   ]
  },
  {
   "cell_type": "code",
   "execution_count": 33,
   "metadata": {},
   "outputs": [
    {
     "data": {
      "text/plain": [
       "{'k': 5}"
      ]
     },
     "execution_count": 33,
     "metadata": {},
     "output_type": "execute_result"
    }
   ],
   "source": [
    "\"\"\"## Make a retriever\"\"\"\n",
    "\n",
    "retriever = vectordb.as_retriever()\n",
    "\n",
    "docs = retriever.get_relevant_documents(\"The plot of metal gear solid 3\")\n",
    "\n",
    "len(docs)\n",
    "\n",
    "retriever = vectordb.as_retriever(search_kwargs={\"k\": 5})\n",
    "\n",
    "retriever.search_type\n",
    "\n",
    "retriever.search_kwargs"
   ]
  },
  {
   "cell_type": "code",
   "execution_count": 34,
   "metadata": {},
   "outputs": [],
   "source": [
    "\"\"\"## Make a chain\"\"\"\n",
    "\n",
    "# create the chain to answer questions\n",
    "qa_chain = RetrievalQA.from_chain_type(llm=OpenAI(),\n",
    "                                  chain_type=\"stuff\",\n",
    "                                  retriever=retriever,\n",
    "                                  return_source_documents=True)\n",
    "\n",
    "## Cite sources\n",
    "def process_llm_response(llm_response):\n",
    "    print(llm_response['result'])\n",
    "    print('\\n\\nSources:')\n",
    "    for source in llm_response[\"source_documents\"]:\n",
    "        print(source.metadata['source'])"
   ]
  },
  {
   "cell_type": "code",
   "execution_count": 35,
   "metadata": {},
   "outputs": [
    {
     "name": "stdout",
     "output_type": "stream",
     "text": [
      " The Shagohod is a nuclear-powered tank designed by the Soviet Union in the game Metal Gear Solid 3.\n",
      "\n",
      "\n",
      "Sources:\n",
      "https://en.wikipedia.org/wiki/List_of_Metal_Gear_characters\n",
      "https://en.wikipedia.org/wiki/Metal_Gear_Solid:_The_Twin_Snakes\n",
      "https://en.wikipedia.org/wiki/The_Boss_(Metal_Gear)\n",
      "https://en.wikipedia.org/wiki/Metal_Gear_Solid_Delta:_Snake_Eater\n",
      "https://en.wikipedia.org/wiki/Metal_Gear_Solid:_The_Twin_Snakes\n"
     ]
    }
   ],
   "source": [
    "# full example\n",
    "query = \"What is the Shagohod??\"\n",
    "llm_response = qa_chain(query)\n",
    "process_llm_response(llm_response)"
   ]
  },
  {
   "cell_type": "code",
   "execution_count": 36,
   "metadata": {},
   "outputs": [
    {
     "data": {
      "text/plain": [
       "{'query': 'Who is The Boss?',\n",
       " 'result': \" The Boss is a fictional character from Konami's Metal Gear series who made her first appearance in Metal Gear Solid 3: Snake Eater. She is a legendary American soldier, founder and leader of the Cobra Unit, the biological mother of Ocelot, mentor and mother figure to Naked Snake, and is known as the mother of the U.S. special forces.\",\n",
       " 'source_documents': [Document(lc_kwargs={'page_content': \"The Boss (ザ・ボス, Za Bosu), also known as The Joy (ザ・ジョイ, Za Joi), is a fictional character from Konami's Metal Gear series who made her first appearance in Metal Gear Solid 3: Snake Eater.\", 'metadata': {'title': 'The Boss (Metal Gear)', 'summary': \"The Boss (ザ・ボス, Za Bosu), also known as The Joy (ザ・ジョイ, Za Joi), is a fictional character from Konami's Metal Gear series who made her first appearance in Metal Gear Solid 3: Snake Eater.\\n\\n\", 'source': 'https://en.wikipedia.org/wiki/The_Boss_(Metal_Gear)'}}, page_content=\"The Boss (ザ・ボス, Za Bosu), also known as The Joy (ザ・ジョイ, Za Joi), is a fictional character from Konami's Metal Gear series who made her first appearance in Metal Gear Solid 3: Snake Eater.\", metadata={'title': 'The Boss (Metal Gear)', 'summary': \"The Boss (ザ・ボス, Za Bosu), also known as The Joy (ザ・ジョイ, Za Joi), is a fictional character from Konami's Metal Gear series who made her first appearance in Metal Gear Solid 3: Snake Eater.\\n\\n\", 'source': 'https://en.wikipedia.org/wiki/The_Boss_(Metal_Gear)'}),\n",
       "  Document(lc_kwargs={'page_content': 'Big Boss (Japanese: ビッグ・ボス, Hepburn: Biggu Bosu) is a video game character from the Metal Gear video game series created by Hideo Kojima and developed and published by Konami.\\nHe was first introduced in the 1987 Metal Gear game as the commanding officer and father of Solid Snake. He is later featured in the prequel games (starting with Metal Gear Solid 3: Snake Eater) as a younger version of the character named Naked Snake (ネイキッド・スネーク, Neikiddo Sunēku), an American Special Forces Operator and decorated war hero. Political manipulations cause him to be disillusioned when facing his own mentor, and he gradually develops his own private mercenary company.', 'metadata': {'title': 'Big Boss (Metal Gear)', 'summary': 'Big Boss (Japanese: ビッグ・ボス, Hepburn: Biggu Bosu) is a video game character from the Metal Gear video game series created by Hideo Kojima and developed and published by Konami.\\nHe was first introduced in the 1987 Metal Gear game as the commanding officer and father of Solid Snake. He is later featured in the prequel games (starting with Metal Gear Solid 3: Snake Eater) as a younger version of the character named Naked Snake (ネイキッド・スネーク, Neikiddo Sunēku), an American Special Forces Operator and decorated war hero. Political manipulations cause him to be disillusioned when facing his own mentor, and he gradually develops his own private mercenary company.\\nThe concept of Naked Snake was an attempt to distance him from Solid Snake, despite both being physically similar through their characterizations. He has been voiced by Akio Ōtsuka in the Japanese version, and by David Hayter and Kiefer Sutherland in the English translation. Critical reception to Big Boss has been positive, due to his role as a villain and his enmity with Solid Snake. His younger persona has been praised as likeable, with critics generally enjoying the execution of his character development in the series designed to shape him into the villainous icon.', 'source': 'https://en.wikipedia.org/wiki/Big_Boss_(Metal_Gear)'}}, page_content='Big Boss (Japanese: ビッグ・ボス, Hepburn: Biggu Bosu) is a video game character from the Metal Gear video game series created by Hideo Kojima and developed and published by Konami.\\nHe was first introduced in the 1987 Metal Gear game as the commanding officer and father of Solid Snake. He is later featured in the prequel games (starting with Metal Gear Solid 3: Snake Eater) as a younger version of the character named Naked Snake (ネイキッド・スネーク, Neikiddo Sunēku), an American Special Forces Operator and decorated war hero. Political manipulations cause him to be disillusioned when facing his own mentor, and he gradually develops his own private mercenary company.', metadata={'title': 'Big Boss (Metal Gear)', 'summary': 'Big Boss (Japanese: ビッグ・ボス, Hepburn: Biggu Bosu) is a video game character from the Metal Gear video game series created by Hideo Kojima and developed and published by Konami.\\nHe was first introduced in the 1987 Metal Gear game as the commanding officer and father of Solid Snake. He is later featured in the prequel games (starting with Metal Gear Solid 3: Snake Eater) as a younger version of the character named Naked Snake (ネイキッド・スネーク, Neikiddo Sunēku), an American Special Forces Operator and decorated war hero. Political manipulations cause him to be disillusioned when facing his own mentor, and he gradually develops his own private mercenary company.\\nThe concept of Naked Snake was an attempt to distance him from Solid Snake, despite both being physically similar through their characterizations. He has been voiced by Akio Ōtsuka in the Japanese version, and by David Hayter and Kiefer Sutherland in the English translation. Critical reception to Big Boss has been positive, due to his role as a villain and his enmity with Solid Snake. His younger persona has been praised as likeable, with critics generally enjoying the execution of his character development in the series designed to shape him into the villainous icon.', 'source': 'https://en.wikipedia.org/wiki/Big_Boss_(Metal_Gear)'}),\n",
       "  Document(lc_kwargs={'page_content': '== Appearances ==\\nIn the Metal Gear series, The Boss is a legendary American soldier, founder and leader of the Cobra Unit, the biological mother of Ocelot, mentor and mother figure to Naked Snake, and is known as the mother of the U.S. special forces. In June 1944, during World War II, she led the Cobra unit to victory at the Battle of Normandy.', 'metadata': {'title': 'The Boss (Metal Gear)', 'summary': \"The Boss (ザ・ボス, Za Bosu), also known as The Joy (ザ・ジョイ, Za Joi), is a fictional character from Konami's Metal Gear series who made her first appearance in Metal Gear Solid 3: Snake Eater.\\n\\n\", 'source': 'https://en.wikipedia.org/wiki/The_Boss_(Metal_Gear)'}}, page_content='== Appearances ==\\nIn the Metal Gear series, The Boss is a legendary American soldier, founder and leader of the Cobra Unit, the biological mother of Ocelot, mentor and mother figure to Naked Snake, and is known as the mother of the U.S. special forces. In June 1944, during World War II, she led the Cobra unit to victory at the Battle of Normandy.', metadata={'title': 'The Boss (Metal Gear)', 'summary': \"The Boss (ザ・ボス, Za Bosu), also known as The Joy (ザ・ジョイ, Za Joi), is a fictional character from Konami's Metal Gear series who made her first appearance in Metal Gear Solid 3: Snake Eater.\\n\\n\", 'source': 'https://en.wikipedia.org/wiki/The_Boss_(Metal_Gear)'}),\n",
       "  Document(lc_kwargs={'page_content': 'GamingUnion.net included The Boss on their list of top ten video game heroines for \"her sheer strength and determination\", similarly commenting \"we will simply say the Boss is one chick you do not want to mess with which is why we\\'ve given her the number 7 spot.\" In 2013, Chillopedia placed this \"heroic American martyr\" 11th', 'metadata': {'title': 'The Boss (Metal Gear)', 'summary': \"The Boss (ザ・ボス, Za Bosu), also known as The Joy (ザ・ジョイ, Za Joi), is a fictional character from Konami's Metal Gear series who made her first appearance in Metal Gear Solid 3: Snake Eater.\\n\\n\", 'source': 'https://en.wikipedia.org/wiki/The_Boss_(Metal_Gear)'}}, page_content='GamingUnion.net included The Boss on their list of top ten video game heroines for \"her sheer strength and determination\", similarly commenting \"we will simply say the Boss is one chick you do not want to mess with which is why we\\'ve given her the number 7 spot.\" In 2013, Chillopedia placed this \"heroic American martyr\" 11th', metadata={'title': 'The Boss (Metal Gear)', 'summary': \"The Boss (ザ・ボス, Za Bosu), also known as The Joy (ザ・ジョイ, Za Joi), is a fictional character from Konami's Metal Gear series who made her first appearance in Metal Gear Solid 3: Snake Eater.\\n\\n\", 'source': 'https://en.wikipedia.org/wiki/The_Boss_(Metal_Gear)'}),\n",
       "  Document(lc_kwargs={'page_content': 'The Boss received critical acclaim. According to Eurogamer, \"The Boss is often touted as being one of the strongest female characters in gaming.\" In 2007, Tom\\'s Games included The Boss among the 50 greatest female characters in video game history, proposing that she should be portrayed in a live-action adaptation by \"Sharon Stone, who reportedly served as the inspiration for the character\\'s design.\" In 2008, Chip ranked her as the 12th top \"girl of gaming\". In 2011, UGO included her on their list of the 50 top \"video game hotties\", commenting that \"The Boss is a bit of a tough one because we instantly find her attractive, but we can\\'t find a hint of sexuality to her at all,\" and adding that \"of all the ladies on our list, she\\'s the one we\\'d be the most wary to mess with.\" That same year, GamingUnion.net included The Boss on their list of top ten video game heroines for \"her sheer strength and determination\", similarly commenting \"we will simply say the Boss is one chick you do not', 'metadata': {'title': 'The Boss (Metal Gear)', 'summary': \"The Boss (ザ・ボス, Za Bosu), also known as The Joy (ザ・ジョイ, Za Joi), is a fictional character from Konami's Metal Gear series who made her first appearance in Metal Gear Solid 3: Snake Eater.\\n\\n\", 'source': 'https://en.wikipedia.org/wiki/The_Boss_(Metal_Gear)'}}, page_content='The Boss received critical acclaim. According to Eurogamer, \"The Boss is often touted as being one of the strongest female characters in gaming.\" In 2007, Tom\\'s Games included The Boss among the 50 greatest female characters in video game history, proposing that she should be portrayed in a live-action adaptation by \"Sharon Stone, who reportedly served as the inspiration for the character\\'s design.\" In 2008, Chip ranked her as the 12th top \"girl of gaming\". In 2011, UGO included her on their list of the 50 top \"video game hotties\", commenting that \"The Boss is a bit of a tough one because we instantly find her attractive, but we can\\'t find a hint of sexuality to her at all,\" and adding that \"of all the ladies on our list, she\\'s the one we\\'d be the most wary to mess with.\" That same year, GamingUnion.net included The Boss on their list of top ten video game heroines for \"her sheer strength and determination\", similarly commenting \"we will simply say the Boss is one chick you do not', metadata={'title': 'The Boss (Metal Gear)', 'summary': \"The Boss (ザ・ボス, Za Bosu), also known as The Joy (ザ・ジョイ, Za Joi), is a fictional character from Konami's Metal Gear series who made her first appearance in Metal Gear Solid 3: Snake Eater.\\n\\n\", 'source': 'https://en.wikipedia.org/wiki/The_Boss_(Metal_Gear)'})]}"
      ]
     },
     "execution_count": 36,
     "metadata": {},
     "output_type": "execute_result"
    }
   ],
   "source": [
    "# break it down\n",
    "query = \"Who is The Boss?\"\n",
    "llm_response = qa_chain(query)\n",
    "# process_llm_response(llm_response)\n",
    "llm_response"
   ]
  },
  {
   "cell_type": "code",
   "execution_count": 5,
   "metadata": {},
   "outputs": [
    {
     "ename": "NameError",
     "evalue": "name 'vectordb' is not defined",
     "output_type": "error",
     "traceback": [
      "\u001b[1;31m---------------------------------------------------------------------------\u001b[0m",
      "\u001b[1;31mNameError\u001b[0m                                 Traceback (most recent call last)",
      "Cell \u001b[1;32mIn[5], line 2\u001b[0m\n\u001b[0;32m      1\u001b[0m \u001b[39m# To cleanup, you can delete the collection\u001b[39;00m\n\u001b[1;32m----> 2\u001b[0m vectordb\u001b[39m.\u001b[39mdelete_collection()\n\u001b[0;32m      3\u001b[0m vectordb\u001b[39m.\u001b[39mpersist()\n",
      "\u001b[1;31mNameError\u001b[0m: name 'vectordb' is not defined"
     ]
    }
   ],
   "source": [
    "# To cleanup, you can delete the collection\n",
    "vectordb.delete_collection()\n",
    "vectordb.persist()"
   ]
  },
  {
   "cell_type": "code",
   "execution_count": null,
   "metadata": {},
   "outputs": [],
   "source": []
  }
 ],
 "metadata": {
  "kernelspec": {
   "display_name": "base",
   "language": "python",
   "name": "python3"
  },
  "language_info": {
   "codemirror_mode": {
    "name": "ipython",
    "version": 3
   },
   "file_extension": ".py",
   "mimetype": "text/x-python",
   "name": "python",
   "nbconvert_exporter": "python",
   "pygments_lexer": "ipython3",
   "version": "3.10.9"
  },
  "orig_nbformat": 4
 },
 "nbformat": 4,
 "nbformat_minor": 2
}
